{
 "metadata": {
  "name": "",
  "signature": "sha256:2c58e0644b609a6009aaf9fbada0abd358c4dd494acca6d41df3fa94ae7b562c"
 },
 "nbformat": 3,
 "nbformat_minor": 0,
 "worksheets": [
  {
   "cells": [
    {
     "cell_type": "code",
     "collapsed": false,
     "input": [
      "# This script shows how to pull in a binary file created by windsyn and ouput a NetCDF \n",
      "# formatted file"
     ],
     "language": "python",
     "metadata": {},
     "outputs": [],
     "prompt_number": 1
    },
    {
     "cell_type": "code",
     "collapsed": false,
     "input": [
      "# Load the needed packages\n",
      "from glob import glob\n",
      "import matplotlib.pyplot as plt\n",
      "\n",
      "from awot.AirborneData import AirborneData"
     ],
     "language": "python",
     "metadata": {},
     "outputs": [],
     "prompt_number": 2
    },
    {
     "cell_type": "code",
     "collapsed": false,
     "input": [
      "# Set the project name\n",
      "Project=\"DYNAMO\"\n",
      "\n",
      "# Choose what file to process\n",
      "yymmdd, modn = '111124', '0705'\n",
      "\n",
      "# Set the data directory\n",
      "fDir = \"/Users/nickguy/data/dynamo/\"+yymmdd+\"I/\"\n",
      "\n",
      "# Construct the full path name for windsyn NetCDF file\n",
      "P3Radf = str(glob(fDir+modn+\"/*\"+modn+\"*windsyn*.nc\")).strip('[]')\n",
      "\n",
      "# Instantiate the Airborne class\n",
      "fl = AirborneData()\n",
      "\n",
      "# Get the tail radar data\n",
      "fl.get_radar_data(fname=fDir+modn+\"/\"+modn, platform='p-3', file_format='binary', \n",
      "                  instrument='tdr_grid')\n",
      "\n",
      "fl.write_radar_netcdf(radar=fl.tdr_radar_data, Outfile='dynamo_'+yymmdd+'_'+modn+'.nc')"
     ],
     "language": "python",
     "metadata": {},
     "outputs": [],
     "prompt_number": 3
    },
    {
     "cell_type": "code",
     "collapsed": false,
     "input": [],
     "language": "python",
     "metadata": {},
     "outputs": []
    }
   ],
   "metadata": {}
  }
 ]
}