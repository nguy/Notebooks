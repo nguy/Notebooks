{
 "metadata": {
  "name": "",
  "signature": "sha256:5fab1a369b613b733e6592756d91ff921297d7d8f821ea21acf6f6982541798a"
 },
 "nbformat": 3,
 "nbformat_minor": 0,
 "worksheets": [
  {
   "cells": [
    {
     "cell_type": "code",
     "collapsed": false,
     "input": [
      "# Load needed packages\n",
      "%matplotlib inline\n",
      "\n",
      "import pyradarmet as rmet\n",
      "import matplotlib.pyplot as plt\n",
      "import numpy as np"
     ],
     "language": "python",
     "metadata": {},
     "outputs": [],
     "prompt_number": 1
    },
    {
     "cell_type": "code",
     "collapsed": false,
     "input": [
      "# For demonstration purposes, we'll use the DoE ARM CSAPR radar to test the functions.\n",
      "# Documentation can be found at:\n",
      "#  http://www.arm.gov/publications/tech_reports/handbooks/csapr_handbook.pdf?id=21\n",
      "# See page 9 for specific system characteristics\n",
      "\n",
      "csapr_frequency = 6.25E9 # Hz\n",
      "csapr_pulse_width_min = 200E-9 # seconds\n",
      "csapr_pulse_width_max = 2E-6 # seconds\n",
      "csapr_beam_width = 0.9 # degrees\n",
      "csapr_gain = 45.1 # dB\n",
      "csapr_power = 350000 # W\n",
      "csapr_prf_min = 200 # Hz\n",
      "csapr_prf_max = 2.7E3 # Hz\n",
      "\n",
      "\n",
      "# Let's make up a couple loss parameters\n",
      "csapr_antenna_loss = 0.5 # dB\n",
      "csapr_receiver_loss = 1.0 # dB"
     ],
     "language": "python",
     "metadata": {},
     "outputs": [],
     "prompt_number": 10
    },
    {
     "cell_type": "code",
     "collapsed": false,
     "input": [
      "## Let's show some examples of radar system calculations ##\n",
      "## system.py ##\n",
      "wavelength = rmet.system.wavelength(csapr_frequency) # m\n",
      "\n",
      "pulse_length_min = rmet.system.pulse_length(csapr_pulse_width_min) # m\n",
      "\n",
      "pulse_length_max = rmet.system.pulse_length(csapr_pulse_width_max) # m\n",
      "\n",
      "radar_const = rmet.system.radar_const(csapr_power, csapr_gain, csapr_pulse_width_max,\n",
      "                                      wavelength, csapr_beam_width, csapr_beam_width,\n",
      "                                      csapr_antenna_loss, csapr_receiver_loss) # unitless\n",
      "\n",
      "antenna_effective_area = rmet.system.ant_eff_area(csapr_gain, wavelength) # m^2\n",
      "\n",
      "# Assume a spherical target of 0.5 mm diameter\n",
      "targ_diam = 0.5E-3\n",
      "targ_area = np.pi * (targ_diam/2)**2\n",
      "\n",
      "# Target volume at 50 m range\n",
      "targ_range = 50.\n",
      "target_power = rmet.system.power_target(csapr_power, csapr_gain, targ_area, targ_range) # W\n",
      "\n",
      "# Assume that it is water (don't need to specify dielectric constant, otherwise add K argument)\n",
      "xsec_backscatter_sphere = rmet.system.xsec_bscatter_sphere(targ_diam, wavelength) # m^2\n",
      "\n",
      "size_parameter = rmet.system.size_param(targ_diam, wavelength) # unitless\n",
      "\n",
      "Pt_return = rmet.system.power_return_target(csapr_power, csapr_gain, wavelength,\n",
      "                                            xsec_backscatter_sphere, targ_range) # W\n"
     ],
     "language": "python",
     "metadata": {},
     "outputs": [],
     "prompt_number": 3
    },
    {
     "cell_type": "code",
     "collapsed": false,
     "input": [
      " # Now print out the answers to check the performance:\n",
      "print \"CSAPR wavelength = %g cm\" % (wavelength * 100) # put into cm\n",
      "print \"CSAPR minimum pulse length = %g m\" % (pulse_length_min)\n",
      "print \"CSAPR maximum pulse length = %g m\" % (pulse_length_max)\n",
      "print \"CSAPR radar constant = %g\" % radar_const\n",
      "print r'CSAPR antenna effective area = %g m^2' % antenna_effective_area\n",
      "print \"CSAPR target power return = %g W\" % target_power\n",
      "print r\"CSAPR crossectional backscatter area =%g m^2\" % xsec_backscatter_sphere\n",
      "print \"Size parameter of example = %g \" % size_parameter\n",
      "print \"CSAPR power return for example = % g W\" % Pt_return"
     ],
     "language": "python",
     "metadata": {},
     "outputs": [
      {
       "output_type": "stream",
       "stream": "stdout",
       "text": [
        "CSAPR wavelength = 4.8 cm\n",
        "CSAPR minimum pulse length = 30 m\n",
        "CSAPR maximum pulse length = 300 m\n",
        "CSAPR radar constant = 1.45312e+15\n",
        "CSAPR antenna effective area = 5.93298 m^2\n",
        "CSAPR target power return = 0.0707861 W\n",
        "CSAPR crossectional backscatter area =7.79059e-13 m^2\n",
        "Size parameter of example = 0.0327249 \n",
        "CSAPR power return for example =  5.30409e-11 W\n"
       ]
      }
     ],
     "prompt_number": 4
    },
    {
     "cell_type": "code",
     "collapsed": false,
     "input": [
      "## Example of attenutation.py ##\n",
      "print \"The extinction coefficient for a spherical ice particle of 1 mm diameter at 5 cm\"\n",
      "print rmet.attenuation.ext_coeff(1E-3, 5E-2, 1.78-0.0024j)"
     ],
     "language": "python",
     "metadata": {},
     "outputs": [
      {
       "output_type": "stream",
       "stream": "stdout",
       "text": [
        "The extinction coefficient for a spherical ice particle of 1 mm diameter at 5 cm\n",
        "1.95154416234e-10\n"
       ]
      }
     ],
     "prompt_number": 5
    },
    {
     "cell_type": "code",
     "collapsed": false,
     "input": [
      "## Converting units ##\n",
      "print \"25 dBZ in linear units is %g\" % rmet.conversion.dBZ2Z(25.)\n",
      "print \"Wind speeds:\"\n",
      "print \"20 mph winds in SI units is %g m/s\" % rmet.conversion.mph2si(20.)\n",
      "print \"40 kmh winds in SI units is %g m/s\" % rmet.conversion.kmh2si(40.)"
     ],
     "language": "python",
     "metadata": {},
     "outputs": [
      {
       "output_type": "stream",
       "stream": "stdout",
       "text": [
        "25 dBZ in linear units is 316.228\n",
        "Wind speeds:\n",
        "20 mph winds in SI units is 8.94082 m/s\n",
        "40 kmh winds in SI units is 11.1111 m/s\n"
       ]
      }
     ],
     "prompt_number": 7
    },
    {
     "cell_type": "code",
     "collapsed": false,
     "input": [
      "## Examples for doppler.py ##\n",
      "fmax_min = rmet.doppler.fmax(csapr_prf_min) # Hz\n",
      "fmax_max = rmet.doppler.fmax(csapr_prf_max) # Hz\n",
      "nyquist_vel_min = rmet.doppler.Vmax(csapr_prf_min, wavelength) # m/s\n",
      "nyquist_vel_max = rmet.doppler.Vmax(csapr_prf_max, wavelength) # m/s\n",
      "Rmax_min = rmet.doppler.Rmax(csapr_prf_min) # m\n",
      "Rmax_max = rmet.doppler.Rmax(csapr_prf_max) # m\n",
      "\n",
      "# Combining the two PRF for a dual-PRF system\n",
      "nyquist_dual = rmet.doppler.Vmax_dual(wavelength, csapr_prf_min, csapr_prf_max) # m/s"
     ],
     "language": "python",
     "metadata": {},
     "outputs": [],
     "prompt_number": 18
    },
    {
     "cell_type": "code",
     "collapsed": false,
     "input": [
      "# Now again print out the answers to the above cell to check the performance:\n",
      "print \"CSAPR max frequency for min PRF = %g Hz\" % (fmax_min)\n",
      "print \"CSAPR max frequency for max PRF = %g Hz\" % (fmax_max)\n",
      "print \"CSAPR nyquist velocity range = %g - %g m/s\" % (nyquist_vel_min, nyquist_vel_max)\n",
      "print \"CSAPR unambiguous range for PRF range = %g - %g km\" % (Rmax_min/1000., Rmax_max/1000.)\n",
      "print \"CSAPR dual PRF example = %g m/s\" % nyquist_dual"
     ],
     "language": "python",
     "metadata": {},
     "outputs": [
      {
       "output_type": "stream",
       "stream": "stdout",
       "text": [
        "CSAPR max frequency for min PRF = 100 Hz\n",
        "CSAPR max frequency for max PRF = 1350 Hz\n",
        "CSAPR nyquist velocity range = 2.4 - 32.4 m/s\n",
        "CSAPR unambiguous range for PRF range = 750 - 55.5556 km\n",
        "CSAPR dual PRF example = 2.592 m/s\n"
       ]
      }
     ],
     "prompt_number": 19
    },
    {
     "cell_type": "code",
     "collapsed": false,
     "input": [],
     "language": "python",
     "metadata": {},
     "outputs": []
    }
   ],
   "metadata": {}
  }
 ]
}